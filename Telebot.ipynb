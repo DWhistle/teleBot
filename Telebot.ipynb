{
 "cells": [
  {
   "cell_type": "code",
   "execution_count": 2,
   "metadata": {},
   "outputs": [],
   "source": [
    "import telebot"
   ]
  },
  {
   "cell_type": "code",
   "execution_count": 3,
   "metadata": {},
   "outputs": [],
   "source": [
    "bot = telebot.TeleBot('954206991:AAGfIPiGlMlaHwdgURlebJ3mxkDEzDUtRZw')"
   ]
  },
  {
   "cell_type": "code",
   "execution_count": null,
   "metadata": {},
   "outputs": [],
   "source": [
    "@bot.message_handler(commands=['start'])\n",
    "def start_message(message):\n",
    "    bot.send_message(message.chat.id, 'Привет, ты написал мне /start')\n",
    "\n",
    "@bot.message_handler(content_types=['text'])\n",
    "def send_text(message):\n",
    "    if message.text.lower() == 'привет':\n",
    "        bot.send_message(message.chat.id, 'Привет, мой создатель')\n",
    "    elif message.text.lower() == 'пока':\n",
    "        bot.send_message(message.chat.id, 'Прощай, создатель')\n",
    "bot.proxy = {'89.111.105.105' : '41258'}\n",
    "while True:\n",
    "    try: \n",
    "        bot.polling()\n",
    "\n",
    "    except Exception:\n",
    "        print('2323')"
   ]
  },
  {
   "cell_type": "code",
   "execution_count": null,
   "metadata": {},
   "outputs": [],
   "source": []
  },
  {
   "cell_type": "code",
   "execution_count": null,
   "metadata": {},
   "outputs": [],
   "source": []
  }
 ],
 "metadata": {
  "kernelspec": {
   "display_name": "Python 3",
   "language": "python",
   "name": "python3"
  },
  "language_info": {
   "codemirror_mode": {
    "name": "ipython",
    "version": 3
   },
   "file_extension": ".py",
   "mimetype": "text/x-python",
   "name": "python",
   "nbconvert_exporter": "python",
   "pygments_lexer": "ipython3",
   "version": "3.7.4"
  }
 },
 "nbformat": 4,
 "nbformat_minor": 2
}
